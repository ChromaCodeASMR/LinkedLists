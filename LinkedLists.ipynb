{
  "nbformat": 4,
  "nbformat_minor": 0,
  "metadata": {
    "colab": {
      "name": "LinkedLists.ipynb",
      "provenance": [],
      "authorship_tag": "ABX9TyMc2iDSdm+2hNGNVjmiyQP/",
      "include_colab_link": true
    },
    "kernelspec": {
      "name": "python3",
      "display_name": "Python 3"
    },
    "language_info": {
      "name": "python"
    }
  },
  "cells": [
    {
      "cell_type": "markdown",
      "metadata": {
        "id": "view-in-github",
        "colab_type": "text"
      },
      "source": [
        "<a href=\"https://colab.research.google.com/github/ChromaCodeASMR/LinkedLists/blob/main/LinkedLists.ipynb\" target=\"_parent\"><img src=\"https://colab.research.google.com/assets/colab-badge.svg\" alt=\"Open In Colab\"/></a>"
      ]
    },
    {
      "cell_type": "code",
      "metadata": {
        "id": "rOrQLkWb4j3T"
      },
      "source": [
        "class Node:\n",
        "    def __init__(self, value):\n",
        "        self.value = value\n",
        "        self.next = None"
      ],
      "execution_count": null,
      "outputs": []
    },
    {
      "cell_type": "code",
      "metadata": {
        "id": "8MWcjvfn7AEC"
      },
      "source": [
        "class LinkedList:\n",
        "    def __init__(self):\n",
        "        self.head = None\n",
        "    \n",
        "    def insert_last(self, new_node):\n",
        "        if self.head is None:\n",
        "            self.head = new_node\n",
        "        else:\n",
        "            current_node = self.head\n",
        "            while current_node.next is not None:\n",
        "                current_node = current_node.next\n",
        "            current_node.next = new_node\n",
        "\n",
        "    def insert_first(self, new_node):\n",
        "        new_node.next = self.head\n",
        "        self.head = new_node\n",
        "\n",
        "    def insert_after(self, insert_index, new_node):\n",
        "        index = 0\n",
        "        current_node = self.head\n",
        "        while index < insert_index:\n",
        "            current_node = current_node.next\n",
        "            index += 1\n",
        "        new_node.next = current_node.next\n",
        "        current_node.next = new_node\n",
        "\n",
        "    def delete(self, del_index):\n",
        "        if del_index == 0:\n",
        "            self.head = self.head.next\n",
        "            return\n",
        "        index = 0\n",
        "        current_node = self.head\n",
        "        while index < del_index:\n",
        "            previous_node = current_node\n",
        "            current_node = current_node.next\n",
        "            index += 1\n",
        "        previous_node.next = current_node.next\n",
        "\n",
        "    def print(self):\n",
        "        current_node = self.head\n",
        "        index = 0\n",
        "        while current_node is not None:\n",
        "            print(f\"Index {index}: {current_node.value}\")\n",
        "            current_node = current_node.next\n",
        "            index += 1"
      ],
      "execution_count": null,
      "outputs": []
    },
    {
      "cell_type": "code",
      "metadata": {
        "id": "oaJ1OB-18OX6"
      },
      "source": [
        "my_list = LinkedList()\n",
        "my_list.insert_last(Node(\"tomato\"))\n",
        "my_list.insert_last(Node(\"salad\"))\n",
        "my_list.insert_last(Node(\"cucumber\"))"
      ],
      "execution_count": null,
      "outputs": []
    },
    {
      "cell_type": "code",
      "metadata": {
        "colab": {
          "base_uri": "https://localhost:8080/"
        },
        "id": "mV1fxr5v8bWb",
        "outputId": "3f7b4056-0970-48de-c4e2-910e79106196"
      },
      "source": [
        "my_list.print()"
      ],
      "execution_count": null,
      "outputs": [
        {
          "output_type": "stream",
          "name": "stdout",
          "text": [
            "Index 0: tomato\n",
            "Index 1: salad\n",
            "Index 2: cucumber\n"
          ]
        }
      ]
    },
    {
      "cell_type": "code",
      "metadata": {
        "colab": {
          "base_uri": "https://localhost:8080/"
        },
        "id": "CrDlNIlhAdCd",
        "outputId": "06ed5b99-8a19-483c-ad26-2025e77d9af7"
      },
      "source": [
        "my_list.insert_first(Node(\"bread\"))\n",
        "my_list.print()"
      ],
      "execution_count": null,
      "outputs": [
        {
          "output_type": "stream",
          "name": "stdout",
          "text": [
            "Index 0: bread\n",
            "Index 1: tomato\n",
            "Index 2: salad\n",
            "Index 3: cucumber\n"
          ]
        }
      ]
    },
    {
      "cell_type": "code",
      "metadata": {
        "colab": {
          "base_uri": "https://localhost:8080/"
        },
        "id": "5Gqme3qHAygv",
        "outputId": "bc630fb0-1608-4864-816b-218f608971a1"
      },
      "source": [
        "my_list.insert_last(Node(\"bread\"))\n",
        "my_list.print()"
      ],
      "execution_count": null,
      "outputs": [
        {
          "output_type": "stream",
          "name": "stdout",
          "text": [
            "Index 0: bread\n",
            "Index 1: tomato\n",
            "Index 2: salad\n",
            "Index 3: cucumber\n",
            "Index 4: bread\n"
          ]
        }
      ]
    },
    {
      "cell_type": "code",
      "metadata": {
        "colab": {
          "base_uri": "https://localhost:8080/"
        },
        "id": "j_DJpe83BX8Z",
        "outputId": "8ab05acc-f3e5-491f-e7ca-674d9c840b7e"
      },
      "source": [
        "my_list.insert_after(0, Node(\"chicken strips\"))\n",
        "my_list.print()"
      ],
      "execution_count": null,
      "outputs": [
        {
          "output_type": "stream",
          "name": "stdout",
          "text": [
            "Index 0: bread\n",
            "Index 1: chicken strips\n",
            "Index 2: tomato\n",
            "Index 3: salad\n",
            "Index 4: cucumber\n",
            "Index 5: bread\n"
          ]
        }
      ]
    },
    {
      "cell_type": "code",
      "metadata": {
        "id": "vTpaCt5x8-54"
      },
      "source": [
        "my_list.delete(0)\n",
        "my_list.print()"
      ],
      "execution_count": null,
      "outputs": []
    }
  ]
}